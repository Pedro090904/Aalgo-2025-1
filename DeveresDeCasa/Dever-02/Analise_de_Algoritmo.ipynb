{
  "nbformat": 4,
  "nbformat_minor": 0,
  "metadata": {
    "colab": {
      "provenance": [],
      "toc_visible": true
    },
    "kernelspec": {
      "name": "python3",
      "display_name": "Python 3"
    },
    "language_info": {
      "name": "python"
    }
  },
  "cells": [
    {
      "cell_type": "markdown",
      "source": [
        "#Aula 01\n"
      ],
      "metadata": {
        "id": "wGQHqWschg_v"
      }
    },
    {
      "cell_type": "code",
      "source": [
        "# Importar os módulos do sistema operacional\n",
        "import os\n",
        "import locale\n",
        "\n",
        "# Instalar pt_BR\n",
        "!/usr/share/locales/install-language-pack pt_BR\n",
        "!dpkg-reconfigure locales pt_BR\n",
        "\n",
        "# Reiniciar o processo Python\n",
        "os.kill(os.getpid(), 9)"
      ],
      "metadata": {
        "colab": {
          "base_uri": "https://localhost:8080/"
        },
        "id": "jgyLgJL_RY1J",
        "outputId": "fdeb3507-9025-464d-a88d-86b79044c900"
      },
      "execution_count": null,
      "outputs": [
        {
          "output_type": "stream",
          "name": "stdout",
          "text": [
            "Generating locales (this might take a while)...\n",
            "  pt_BR.ISO-8859-1... done\n",
            "Generation complete.\n",
            "\u001b[1mdpkg-trigger:\u001b[0m \u001b[1;31merror:\u001b[0m must be called from a maintainer script (or with a --by-package option)\n",
            "\n",
            "Type dpkg-trigger --help for help about this utility.\n",
            "Generating locales (this might take a while)...\n",
            "  en_US.UTF-8... done\n",
            "  pt_BR.ISO-8859-1... done\n",
            "Generation complete.\n",
            "dpkg-query: package 'pt_br' is not installed and no information is available\n",
            "Use dpkg --info (= dpkg-deb --info) to examine archive files.\n",
            "/usr/sbin/dpkg-reconfigure: pt_BR is not installed\n"
          ]
        }
      ]
    },
    {
      "cell_type": "markdown",
      "source": [
        "Definições e funções para todos os exemplos\n",
        "\n"
      ],
      "metadata": {
        "id": "Gea-6pzLnphD"
      }
    },
    {
      "cell_type": "code",
      "source": [
        "\n",
        "# encoding: iso-8859-1\n",
        "\n",
        "from datetime import datetime\n",
        "import random\n",
        "\n",
        "# Ajustando a localização para o Brasil\n",
        "import os\n",
        "import locale\n",
        "locale.setlocale(locale.LC_ALL, 'pt_BR')\n",
        "from datetime import datetime\n",
        "import pytz\n",
        "\n",
        "# Define o fuso horário para o Brasil (Brasília)\n",
        "con_fuso_horario = pytz.timezone(\"America/Sao_Paulo\")\n",
        "\n",
        "conSeparador= \"\\nXXXXXXXXXXXXX---XXXXXXXXXXXXX\\n\"\n",
        "\n",
        "# Função formatar tempo de execução (dado tempo de inicio e fim, retorna h:m:milisegundos formatado)\n",
        "def formata_tempo_execucao (dttInicio, dttfim):\n",
        "    strTempo = dttfim - dttInicio\n",
        "    str_tempo_execucao_formatado = \"{:02d}:{:02d}.{:06d}\".format(\n",
        "    strTempo.seconds // 60,  # Minutos\n",
        "    strTempo.seconds % 60,  # Segundos\n",
        "    strTempo.microseconds  # Microsegundos\n",
        "    )\n",
        "    return str_tempo_execucao_formatado\n",
        "\n",
        "def formata_data(dttParametro):\n",
        "  return dttParametro.strftime(\"%d/%m/%Y - %H:%M:%S.%f\")\n",
        "\n",
        "def formata_numero(numero):\n",
        "    return locale.format_string(\"%d\", numero, grouping=True)\n",
        "\n",
        "# Cria um array do tamanho intElementosArray, valores inteiros entre intMin e intMax)\n",
        "def montar_array (intElementosArray,intMin, intMax):\n",
        "  x = 0\n",
        "  array = []\n",
        "  while x < intTamArray:\n",
        "    intElementosArray = random.randint(intMin,intMax)\n",
        "    array.append (intElementosArray)\n",
        "    x += 1\n",
        "  return (array)\n",
        "\n",
        "def ler_inteiro (strMensagem):\n",
        "  while True:\n",
        "    try:      # Se nenhuma exceção ocorrer, a cláusula except é ignorada e a execução da instrução try é finalizada\n",
        "      tamanho = int(input(strMensagem))\n",
        "      break  # Se a entrada for válida, sai do loop e finaliza o programa\n",
        "    except ValueError:\n",
        "      print(\"Erro: Por favor, digite um número inteiro valido.\")\n",
        "  return tamanho\n",
        "\n",
        "\n",
        "def carregar_array():\n",
        "    arrMeuArray = []\n",
        "    while True:\n",
        "        entrada = input(\"Digite um número inteiro para o array (-1 para sair): \")\n",
        "        try:\n",
        "            numero = int(entrada)\n",
        "        except ValueError:\n",
        "            print(\"Por favor, digite um número inteiro válido.\")\n",
        "            continue\n",
        "        if numero == -1:\n",
        "            break\n",
        "        arrMeuArray.append(numero)\n",
        "        print (f\"O array atual tem {str(len(arrMeuArray))}. Seu conteúdo é \\n\")\n",
        "        print (arrMeuArray)\n",
        "    return arrMeuArray\n",
        "\n",
        "def marcar_inicio (strMensagem):\n",
        "  dttInicio = datetime.now(con_fuso_horario)\n",
        "  dttInicioFormatado = formata_data(dttInicio)\n",
        "  print(f\"Iniciando {strMensagem} as : \" + str(dttInicioFormatado))\n",
        "  return dttInicio\n",
        "\n",
        "def marcar_fim (strMensagem):\n",
        "  dttFim = datetime.now(con_fuso_horario)\n",
        "  dttFimFormatado = formata_data (dttFim)\n",
        "  print(f\"Finalizando {strMensagem} as : \" + str(dttFimFormatado))\n",
        "  return dttFim"
      ],
      "metadata": {
        "id": "nuRRlG6sRxUA"
      },
      "execution_count": null,
      "outputs": []
    },
    {
      "cell_type": "markdown",
      "source": [
        "Exemplo 01 - O(1)"
      ],
      "metadata": {
        "id": "kkckAzj_ny8h"
      }
    },
    {
      "cell_type": "code",
      "source": [
        "arrMeuArray = []\n",
        "\n",
        "# Data impressa não formatada e com timezone errado. PROPOSITAL PARA DEMONSTRAR ERROS.\n",
        "\n",
        "print(\"Data impressa não formatada e com timezone errado. PROPOSITAL PARA DEMONSTRAR ERROS.\\n\")\n",
        "\n",
        "dttInicio = datetime.now()\n",
        "print(\"Iniciando a adição de um elemento ao array as : \" + str(dttInicio))\n",
        "\n",
        "intElementoArray = random.randint(0,10000000)\n",
        "arrMeuArray.append (intElementoArray)\n",
        "\n",
        "dttFim = datetime.now()\n",
        "print(\"Finalizando a adição de um elemento ao array as : \" + str(dttFim))\n",
        "print(\"Tempo de execucao foi de: : \" + (str(dttFim - dttInicio)))\n",
        "\n",
        "print (f\"O array é: {arrMeuArray}\")"
      ],
      "metadata": {
        "colab": {
          "base_uri": "https://localhost:8080/"
        },
        "id": "jNMuB34gh9Xb",
        "outputId": "55dcb158-d3df-41f0-88b1-88fb8337613d"
      },
      "execution_count": null,
      "outputs": [
        {
          "output_type": "stream",
          "name": "stdout",
          "text": [
            "Data impressa não formatada e com timezone errado. PROPOSITAL PARA DEMONSTRAR ERROS.\n",
            "\n",
            "Iniciando a adição de um elemento ao array as : 2025-02-28 12:29:00.588413\n",
            "Finalizando a adição de um elemento ao array as : 2025-02-28 12:29:00.588633\n",
            "Tempo de execucao foi de: : 0:00:00.000220\n",
            "O array é: [1221501]\n"
          ]
        }
      ]
    },
    {
      "cell_type": "markdown",
      "source": [
        "Exemplo 02 - O(N)"
      ],
      "metadata": {
        "id": "6GRjMHWnn9Qo"
      }
    },
    {
      "cell_type": "code",
      "source": [
        "# Exemplo 2 - O(N) - tempor de execução cresce conforme tamanho da entrada de dados\n",
        "\n",
        "print (\"EXEMPLO 2 - incluir N elementos em um array - O(N)\")\n",
        "\n",
        "intTamArray = ler_inteiro(\"Digite o tamanho do array que deseja montar (>0)\")\n",
        "strTamArrayFormatado = formata_numero (intTamArray)\n",
        "\n",
        "strMensagem = \"incluir \" + strTamArrayFormatado + \" elementos em um array\"\n",
        "\n",
        "dttInicio = marcar_inicio (strMensagem)\n",
        "\n",
        "arrMeuArray = montar_array (intTamArray,0,1000)\n",
        "\n",
        "dttFim = marcar_fim (strMensagem)\n",
        "\n",
        "strTempoExecucaoFormatado = formata_tempo_execucao(dttInicio, dttFim)\n",
        "\n",
        "print(f\"Tempo de execucao foi de: {strTempoExecucaoFormatado}\")"
      ],
      "metadata": {
        "colab": {
          "base_uri": "https://localhost:8080/"
        },
        "id": "uC08LCunoBop",
        "outputId": "6870251d-b94c-4314-97db-b877eb67c2c9"
      },
      "execution_count": null,
      "outputs": [
        {
          "output_type": "stream",
          "name": "stdout",
          "text": [
            "EXEMPLO 2 - incluir N elementos em um array - O(N)\n",
            "Digite o tamanho do array que deseja montar (>0)100\n",
            "Iniciando incluir 100 elementos em um array as : 28/02/2025 - 09:56:24.795207\n",
            "Finalizando incluir 100 elementos em um array as : 28/02/2025 - 09:56:24.795603\n",
            "Tempo de execucao foi de: 00:00.000396\n"
          ]
        }
      ]
    },
    {
      "cell_type": "markdown",
      "source": [
        "Exemplo 3 - O(log(N))"
      ],
      "metadata": {
        "id": "uyXT8EKToT9Z"
      }
    },
    {
      "cell_type": "code",
      "source": [
        "# Exemplo 3 - Ordenar o Array através do Quicksort\n",
        "\n",
        "print (\"EXEMPLO 3 - Ordenar o Array com QuickSort - O(log (N))\")\n",
        "\n",
        "intTamArray = ler_inteiro(\"Digite o tamanho do array que deseja montar (>0)\")\n",
        "strTamArrayFormatado = formata_numero (intTamArray)\n",
        "arrMeuArray = montar_array (intElementoArray,0,100000)\n",
        "strTamArrayFormatado = formata_numero (intTamArray)\n",
        "\n",
        "def quick_sort(arr):\n",
        "    if len(arr) <= 1:\n",
        "        return arr\n",
        "    pivot = arr[len(arr) // 2]\n",
        "    left = [x for x in arr if x < pivot]\n",
        "    middle = [x for x in arr if x == pivot]\n",
        "    right = [x for x in arr if x > pivot]\n",
        "    return quick_sort(left) + middle + quick_sort(right)\n",
        "\n",
        "arrBubble = arrMeuArray.copy() # usar o método copy, caso contrário será criada uma referência e não um novo array.\n",
        "arrQuick = arrMeuArray.copy()\n",
        "\n",
        "strMensagem = \"ordenar com Quick Sort \" + strTamArrayFormatado + \" elementos em um array\"\n",
        "dttInicio = marcar_inicio (strMensagem)\n",
        "\n",
        "arrQuick = quick_sort(arrQuick)\n",
        "\n",
        "dttFim = marcar_fim (strMensagem)\n",
        "\n",
        "strTempoExecucaoFormatado = formata_tempo_execucao(dttInicio, dttFim)\n",
        "\n",
        "print(\"Tempo de execucao do Quick Sort foi de: \" + strTempoExecucaoFormatado)"
      ],
      "metadata": {
        "colab": {
          "base_uri": "https://localhost:8080/"
        },
        "id": "71YU0Ml7oaKQ",
        "outputId": "d21c82b9-b715-49b9-9329-1ed8c542bd33"
      },
      "execution_count": null,
      "outputs": [
        {
          "output_type": "stream",
          "name": "stdout",
          "text": [
            "EXEMPLO 3 - Ordenar o Array com QuickSort - O(log (N))\n",
            "Digite o tamanho do array que deseja montar (>0)100\n",
            "Iniciando ordenar com Quick Sort 100 elementos em um array as : 28/02/2025 - 09:57:17.587895\n",
            "Finalizando ordenar com Quick Sort 100 elementos em um array as : 28/02/2025 - 09:57:17.588297\n",
            "Tempo de execucao do Quick Sort foi de: 00:00.000402\n"
          ]
        }
      ]
    },
    {
      "cell_type": "markdown",
      "source": [
        "Exemplo 4 - O(N2) - N ao quadrado"
      ],
      "metadata": {
        "id": "6UERHNzBonrK"
      }
    },
    {
      "cell_type": "code",
      "source": [
        "# Exemplo 4 - Ordenar o Array através do Bubblesort\n",
        "print (\"EXEMPLO 4 - Ordenar o Array com Bubble Sort - O(N2)\")\n",
        "\n",
        "intTamArray = ler_inteiro(\"Digite o tamanho do array que deseja montar (>0)\")\n",
        "strTamArrayFormatado = formata_numero (intTamArray)\n",
        "arrMeuArray = montar_array (intElementoArray,0,100000)\n",
        "strTamArrayFormatado = formata_numero (intTamArray)\n",
        "\n",
        "strMensagem = \"ordenar com Bubble Sort \" + strTamArrayFormatado + \" elementos em um array\"\n",
        "dttInicio = marcar_inicio (strMensagem)\n",
        "\n",
        "def bubble_sort(arr):\n",
        "\n",
        "    # Loop externo\n",
        "    for n in range(len(arr) - 1, 0, -1):\n",
        "\n",
        "        bolTrocou = False\n",
        "\n",
        "        # Loop Interno\n",
        "        for i in range(n):\n",
        "            if arr[i] > arr[i + 1]:\n",
        "\n",
        "\n",
        "                arr[i], arr[i + 1] = arr[i + 1], arr[i]\n",
        "\n",
        "                bolTrocou = True\n",
        "\n",
        "        if not bolTrocou:\n",
        "            break\n",
        "\n",
        "dttFim = marcar_fim (strMensagem)\n",
        "\n",
        "strTempoExecucaoFormatado = formata_tempo_execucao(dttInicio, dttFim)\n",
        "\n",
        "print(\"Tempo de execucao foi de: \" + strTempoExecucaoFormatado)"
      ],
      "metadata": {
        "colab": {
          "base_uri": "https://localhost:8080/",
          "height": 245
        },
        "id": "w-2U8tJmoscw",
        "outputId": "cf8ca2b1-8be8-4fd4-8ff9-64e77273ee34"
      },
      "execution_count": null,
      "outputs": [
        {
          "name": "stdout",
          "output_type": "stream",
          "text": [
            "EXEMPLO 4 - Ordenar o Array com Bubble Sort - O(N2)\n",
            "Digite o tamanho do array que deseja montar (>0): 100\n"
          ]
        },
        {
          "output_type": "error",
          "ename": "NameError",
          "evalue": "name 'intElementoArray' is not defined",
          "traceback": [
            "\u001b[0;31m---------------------------------------------------------------------------\u001b[0m",
            "\u001b[0;31mNameError\u001b[0m                                 Traceback (most recent call last)",
            "\u001b[0;32m<ipython-input-3-099c0421c66f>\u001b[0m in \u001b[0;36m<cell line: 0>\u001b[0;34m()\u001b[0m\n\u001b[1;32m      4\u001b[0m \u001b[0mintTamArray\u001b[0m \u001b[0;34m=\u001b[0m \u001b[0mler_inteiro\u001b[0m\u001b[0;34m(\u001b[0m\u001b[0;34m\"Digite o tamanho do array que deseja montar (>0)\"\u001b[0m\u001b[0;34m)\u001b[0m\u001b[0;34m\u001b[0m\u001b[0;34m\u001b[0m\u001b[0m\n\u001b[1;32m      5\u001b[0m \u001b[0mstrTamArrayFormatado\u001b[0m \u001b[0;34m=\u001b[0m \u001b[0mformata_numero\u001b[0m \u001b[0;34m(\u001b[0m\u001b[0mintTamArray\u001b[0m\u001b[0;34m)\u001b[0m\u001b[0;34m\u001b[0m\u001b[0;34m\u001b[0m\u001b[0m\n\u001b[0;32m----> 6\u001b[0;31m \u001b[0marrMeuArray\u001b[0m \u001b[0;34m=\u001b[0m \u001b[0mmontar_array\u001b[0m \u001b[0;34m(\u001b[0m\u001b[0mintElementoArray\u001b[0m\u001b[0;34m,\u001b[0m\u001b[0;36m0\u001b[0m\u001b[0;34m,\u001b[0m\u001b[0;36m100000\u001b[0m\u001b[0;34m)\u001b[0m\u001b[0;34m\u001b[0m\u001b[0;34m\u001b[0m\u001b[0m\n\u001b[0m\u001b[1;32m      7\u001b[0m \u001b[0mstrTamArrayFormatado\u001b[0m \u001b[0;34m=\u001b[0m \u001b[0mformata_numero\u001b[0m \u001b[0;34m(\u001b[0m\u001b[0mintTamArray\u001b[0m\u001b[0;34m)\u001b[0m\u001b[0;34m\u001b[0m\u001b[0;34m\u001b[0m\u001b[0m\n\u001b[1;32m      8\u001b[0m \u001b[0;34m\u001b[0m\u001b[0m\n",
            "\u001b[0;31mNameError\u001b[0m: name 'intElementoArray' is not defined"
          ]
        }
      ]
    },
    {
      "cell_type": "markdown",
      "source": [
        "Exemplo 5 - O(2n) - 2 elevado a n"
      ],
      "metadata": {
        "id": "uzs1A60bozCQ"
      }
    },
    {
      "cell_type": "code",
      "source": [
        "# Exemplo 5 - Determinar se existe um subconjunto de um conjunto dado de números que soma a um determinado valor\n",
        "print (\"EXEMPLO 5 - Ver se um número é a soma de dois elementos de um array - O(2n)\")\n",
        "\n",
        "def subset_soma(arrTeste, intAlvo, parcial=[]):\n",
        "    s = sum(parcial)\n",
        "\n",
        "    # Caso base: se a soma parcial é igual ao alvo, retorna True\n",
        "    if s == intAlvo:\n",
        "        return True\n",
        "\n",
        "    # Se a soma parcial exceder o alvo, retorna False\n",
        "    if s > intAlvo:\n",
        "        return False\n",
        "\n",
        "    # Tenta incluir cada número do conjunto em turnos\n",
        "    for i, n in enumerate(arrTeste):\n",
        "        arrRestante = arrTeste[i + 1:]\n",
        "        if subset_soma(arrRestante, intAlvo, parcial + [n]):\n",
        "            return True\n",
        "\n",
        "    return False\n",
        "\n",
        "# Carregar o array\n",
        "intTamArray = ler_inteiro (\"Digite tamanho do array: \")\n",
        "\n",
        "arrNumeros = montar_array (intTamArray,0,10)\n",
        "\n",
        "print (f\"O array é: {arrNumeros}\")\n",
        "\n",
        "intNumeroAlvo = ler_inteiro (\"Digite o número a ser procurado: \")\n",
        "\n",
        "strMensagem = \"ver se número é soma de elementos de um dado array\"\n",
        "dttInicio = marcar_inicio (strMensagem)\n",
        "\n",
        "\n",
        "if subset_soma(arrNumeros, intNumeroAlvo):\n",
        "    print(\"Existe um subconjunto que soma ao alvo.\")\n",
        "else:\n",
        "    print(\"Não existe um subconjunto que soma ao alvo.\")\n",
        "\n",
        "dttFim = marcar_fim (strMensagem)\n",
        "\n",
        "strTempoExecucaoFormatado = formata_tempo_execucao(dttInicio, dttFim)\n",
        "\n",
        "print(\"Tempo de execucao foi de: \" + strTempoExecucaoFormatado)"
      ],
      "metadata": {
        "colab": {
          "base_uri": "https://localhost:8080/"
        },
        "id": "Of1dHwqyo1rn",
        "outputId": "9bfe1cca-8099-4879-f4bc-4e7bf3577f81"
      },
      "execution_count": null,
      "outputs": [
        {
          "output_type": "stream",
          "name": "stdout",
          "text": [
            "EXEMPLO 5 - Ver se um número é a soma de dois elementos de um array - O(2n)\n",
            "Digite tamanho do array: 100\n",
            "O array é: [9, 6, 0, 8, 7, 10, 6, 4, 0, 1, 0, 1, 9, 2, 6, 7, 10, 9, 0, 9, 6, 0, 0, 10, 6, 0, 10, 9, 5, 9, 7, 8, 7, 9, 7, 10, 5, 4, 2, 7, 4, 2, 6, 9, 10, 4, 3, 1, 4, 3, 1, 10, 6, 0, 6, 0, 3, 1, 10, 10, 1, 1, 2, 6, 1, 1, 3, 9, 10, 6, 8, 10, 2, 1, 5, 6, 10, 2, 8, 3, 8, 3, 2, 7, 10, 5, 6, 9, 6, 5, 10, 0, 4, 7, 8, 8, 2, 10, 10, 10]\n",
            "Digite o número a ser procurado: 10\n",
            "Iniciando ver se número é soma de elementos de um dado array as : 28/02/2025 - 09:59:15.681568\n",
            "Existe um subconjunto que soma ao alvo.\n",
            "Finalizando ver se número é soma de elementos de um dado array as : 28/02/2025 - 09:59:15.681884\n",
            "Tempo de execucao foi de: 00:00.000316\n"
          ]
        }
      ]
    },
    {
      "cell_type": "markdown",
      "source": [
        "Exemplo 6 - O(N!)"
      ],
      "metadata": {
        "id": "JI1EtTnMo_J3"
      }
    },
    {
      "cell_type": "code",
      "source": [
        "def permutacoes(lista):\n",
        "    # Caso base: se a lista tem um único elemento, retorna a lista com ele mesmo\n",
        "    if len(lista) == 1:\n",
        "        return [lista]\n",
        "\n",
        "    # Lista para armazenar as permutações\n",
        "    resultado = []\n",
        "\n",
        "    # Itera sobre todos os elementos da lista\n",
        "    for i in range(len(lista)):\n",
        "        # Elemento atual\n",
        "        atual = lista[i]\n",
        "        # Restante da lista sem o elemento atual\n",
        "        restante = lista[:i] + lista[i+1:]\n",
        "        # Gera todas as permutações do restante da lista\n",
        "        for p in permutacoes(restante):\n",
        "            # Adiciona o elemento atual no início de cada permutação do restante\n",
        "            resultado.append([atual] + p)\n",
        "\n",
        "    return resultado\n",
        "\n",
        "# Exemplo de uso\n",
        "intTamArray = ler_inteiro (\"Digite tamanho do array: \")\n",
        "\n",
        "arrNumeros = montar_array (intTamArray,0,9)\n",
        "print (f\"O array é: {arrNumeros}\")\n",
        "\n",
        "\n",
        "strMensagem = \"criando as permutações entre os números\"\n",
        "dttInicio = marcar_inicio (strMensagem)\n",
        "\n",
        "todas_permutacoes = permutacoes(arrNumeros)\n",
        "\n",
        "dttFim = marcar_fim (strMensagem)\n",
        "\n",
        "strTempoExecucaoFormatado = formata_tempo_execucao(dttInicio, dttFim)\n",
        "\n",
        "for p in todas_permutacoes:\n",
        "    print(p)\n",
        "\n",
        "print(\"Tempo de execucao foi de: \" + strTempoExecucaoFormatado + \"\\n\")"
      ],
      "metadata": {
        "colab": {
          "base_uri": "https://localhost:8080/"
        },
        "id": "MZhmLAZ_pBvX",
        "outputId": "7de625d2-478b-44c1-ca94-53ec1011cac0"
      },
      "execution_count": null,
      "outputs": [
        {
          "output_type": "stream",
          "name": "stdout",
          "text": [
            "Digite tamanho do array: 3\n",
            "O array é: [3, 4, 7]\n",
            "Iniciando criando as permutações entre os números as : 28/02/2025 - 10:01:15.611330\n",
            "Finalizando criando as permutações entre os números as : 28/02/2025 - 10:01:15.611588\n",
            "[3, 4, 7]\n",
            "[3, 7, 4]\n",
            "[4, 3, 7]\n",
            "[4, 7, 3]\n",
            "[7, 3, 4]\n",
            "[7, 4, 3]\n",
            "Tempo de execucao foi de: 00:00.000258\n",
            "\n"
          ]
        }
      ]
    },
    {
      "cell_type": "markdown",
      "source": [
        "#Dever de casa 01"
      ],
      "metadata": {
        "id": "KQg0Ri9NjR_9"
      }
    },
    {
      "cell_type": "code",
      "source": [
        "import time\n",
        "import random\n",
        "\n",
        "def bubble_sort(arr):\n",
        "    \"\"\"\n",
        "    Implementação do algoritmo Bubble Sort.\n",
        "    Percorre repetidamente a lista e troca elementos adjacentes se estiverem na ordem errada.\n",
        "    \"\"\"\n",
        "    for n in range(len(arr) - 1, 0, -1):\n",
        "        bolTrocou = False\n",
        "        for i in range(n):\n",
        "            if arr[i] > arr[i + 1]:\n",
        "                arr[i], arr[i + 1] = arr[i + 1], arr[i]\n",
        "                bolTrocou = True\n",
        "        if not bolTrocou:\n",
        "            break\n",
        "\n",
        "def marcar_inicio(mensagem):\n",
        "    print(f\"Iniciando {mensagem}...\")\n",
        "    return time.time()\n",
        "\n",
        "def marcar_fim(mensagem):\n",
        "    print(f\"Finalizando {mensagem}...\")\n",
        "    return time.time()\n",
        "\n",
        "def formata_numero(numero):\n",
        "    return f\"{numero:,}\".replace(\",\", \".\")\n",
        "\n",
        "def formata_tempo_execucao(inicio, fim):\n",
        "    return f\"{fim - inicio:.6f} segundos\"\n",
        "\n",
        "def ler_inteiro(mensagem):\n",
        "    return int(input(mensagem + \": \"))\n",
        "\n",
        "def montar_array(tamanho, min_valor, max_valor):\n",
        "    return [random.randint(min_valor, max_valor) for _ in range(tamanho)]\n",
        "\n",
        "# Entrada do usuário\n",
        "intTamArray = ler_inteiro(\"Digite o tamanho do array que deseja montar (>0)\")\n",
        "strTamArrayFormatado = formata_numero(intTamArray)\n",
        "arrMeuArray = montar_array(intTamArray, 0, 100000)\n",
        "\n",
        "strMensagem = f\"ordenar com Bubble Sort {strTamArrayFormatado} elementos em um array\"\n",
        "dttInicio = marcar_inicio(strMensagem)\n",
        "\n",
        "bubble_sort(arrMeuArray)\n",
        "\n",
        "dttFim = marcar_fim(strMensagem)\n",
        "strTempoExecucaoFormatado = formata_tempo_execucao(dttInicio, dttFim)\n",
        "\n",
        "print(\"Tempo de execução foi de: \" + strTempoExecucaoFormatado)\n"
      ],
      "metadata": {
        "colab": {
          "base_uri": "https://localhost:8080/"
        },
        "id": "AlhrJBqnjVgi",
        "outputId": "997f5a2a-a2f2-4326-c326-d786cf086b00"
      },
      "execution_count": null,
      "outputs": [
        {
          "output_type": "stream",
          "name": "stdout",
          "text": [
            "Digite o tamanho do array que deseja montar (>0): 10000\n",
            "Iniciando ordenar com Bubble Sort 10.000 elementos em um array...\n",
            "Finalizando ordenar com Bubble Sort 10.000 elementos em um array...\n",
            "Tempo de execução foi de: 6.281338 segundos\n"
          ]
        }
      ]
    },
    {
      "cell_type": "markdown",
      "source": [
        "# Aula 02"
      ],
      "metadata": {
        "id": "0ajX4Q1-rGvy"
      }
    },
    {
      "cell_type": "markdown",
      "source": [
        "Calcular fatorial"
      ],
      "metadata": {
        "id": "-zjmyNYhuPUi"
      }
    },
    {
      "cell_type": "code",
      "source": [
        "import time"
      ],
      "metadata": {
        "id": "rKcYWko5yWrU"
      },
      "execution_count": null,
      "outputs": []
    },
    {
      "cell_type": "code",
      "source": [
        "def fatorial(n):\n",
        "\n",
        "  if n == 0:\n",
        "    return 1\n",
        "\n",
        "  else:\n",
        "\n",
        "    return n * fatorial(n-1)\n",
        "\n",
        "numero = ler_inteiro(\"Calcular o fatorial do número: \")\n",
        "\n",
        "resultado = fatorial(numero)\n",
        "\n",
        "print(f\"O fatorial de {numero} é {resultado}\")\n"
      ],
      "metadata": {
        "colab": {
          "base_uri": "https://localhost:8080/"
        },
        "id": "GLIkNTqauUsy",
        "outputId": "07acb894-a4af-4563-fa26-eda813a938ea"
      },
      "execution_count": null,
      "outputs": [
        {
          "output_type": "stream",
          "name": "stdout",
          "text": [
            "Calcular o fatorial do número: 4\n",
            "O fatorial de 4 é 24\n"
          ]
        }
      ]
    },
    {
      "cell_type": "code",
      "source": [
        "def fibonacci(n):\n",
        "\n",
        "  if n <= 1:\n",
        "\n",
        "    return n\n",
        "\n",
        "  else:\n",
        "\n",
        "    return fibonacci(n-1) + fibonacci(n-2)\n",
        "\n",
        "numero = ler_inteiro(\"Calcular o valor N para a sequência de Fibonacci: \")\n",
        "\n",
        "resultado = fibonacci(numero)\n",
        "\n",
        "print(f\"O {numero}º número da sequência de Fibonacci é {resultado}\")"
      ],
      "metadata": {
        "colab": {
          "base_uri": "https://localhost:8080/"
        },
        "id": "y8zF9IZlyGvN",
        "outputId": "9fc3849c-7bb1-43dd-b12c-f8d0c5664ea9"
      },
      "execution_count": null,
      "outputs": [
        {
          "output_type": "stream",
          "name": "stdout",
          "text": [
            "Calcular o valor N para a sequência de Fibonacci: 2\n",
            "O 2º número da sequência de Fibonacci é 1\n"
          ]
        }
      ]
    },
    {
      "cell_type": "markdown",
      "source": [
        "#Dever de casa 02\n"
      ],
      "metadata": {
        "id": "xQ4XkyAN__sm"
      }
    },
    {
      "cell_type": "code",
      "source": [
        "def fatorial(n):\n",
        "    \"\"\"\n",
        "    Função recursiva para calcular o fatorial de um número.\n",
        "\n",
        "    Parâmetro:\n",
        "    n (int): Número inteiro positivo\n",
        "\n",
        "    Retorno:\n",
        "    int: Fatorial de n\n",
        "    \"\"\"\n",
        "    if n == 0 or n == 1:  # Caso base\n",
        "        return 1\n",
        "    return n * fatorial(n - 1)  # Chamada recursiva\n"
      ],
      "metadata": {
        "id": "-UFgpWteAGNF"
      },
      "execution_count": 1,
      "outputs": []
    },
    {
      "cell_type": "code",
      "source": [
        "import time\n",
        "\n",
        "n = int(input(\"Digite um número inteiro para calcular o fatorial: \"))\n",
        "\n",
        "inicio = time.time()  # Início da medição do tempo\n",
        "resultado = fatorial(n)\n",
        "fim = time.time()  # Fim da medição do tempo\n",
        "\n",
        "print(f\"O fatorial de {n} é {resultado}\")\n",
        "print(f\"Tempo de execução: {fim - inicio:.6f} segundos\")\n"
      ],
      "metadata": {
        "colab": {
          "base_uri": "https://localhost:8080/"
        },
        "id": "-Ar6fyi-BAyi",
        "outputId": "6781b1c3-41a1-44e3-b031-41ff58dd9822"
      },
      "execution_count": 10,
      "outputs": [
        {
          "output_type": "stream",
          "name": "stdout",
          "text": [
            "Digite um número inteiro para calcular o fatorial: 10\n",
            "O fatorial de 10 é 3628800\n",
            "Tempo de execução: 0.000055 segundos\n"
          ]
        }
      ]
    },
    {
      "cell_type": "markdown",
      "source": [
        "### Análise da Complexidade\n",
        "\n",
        "O algoritmo de fatorial recursivo possui complexidade **O(n)**, pois:\n",
        "\n",
        "1. Cada chamada `fatorial(n)` faz outra chamada para `fatorial(n-1)`.\n",
        "2. O número total de chamadas antes de atingir o caso base é **n**.\n",
        "3. O tempo de execução cresce linearmente com `n`, já que há **n multiplicações** no total.\n",
        "\n",
        "Portanto, a complexidade assintótica do algoritmo é **O(n)**."
      ],
      "metadata": {
        "id": "p3EXS3xFCvOP"
      }
    },
    {
      "cell_type": "markdown",
      "source": [
        "### Resultados da Medição de Tempo\n",
        "\n",
        "A tabela abaixo mostra os tempos de execução para diferentes valores de `n`:\n",
        "\n",
        "| Valor de `n`  | Tempo de Execução (s) |\n",
        "|--------------|----------------------|\n",
        "| 10           | 0.000057             |\n",
        "| 100          | 0.000236             |\n",
        "| 500          | 0.000458             |\n",
        "| 1000         | 0.005112             |\n",
        "\n",
        "Esses tempos confirmam que o crescimento do tempo de execução é **linear**, ou seja, **O(n)**.\n",
        "\n",
        "#### **Explicação**\n",
        "O algoritmo faz `n` chamadas recursivas antes de atingir o caso base. Isso significa que o tempo de execução cresce proporcionalmente ao tamanho de `n`, justificando a complexidade **O(n)**.\n"
      ],
      "metadata": {
        "id": "a0kzJwauDc6p"
      }
    },
    {
      "cell_type": "code",
      "source": [],
      "metadata": {
        "id": "2g2rc1hXC9Fu"
      },
      "execution_count": null,
      "outputs": []
    }
  ]
}