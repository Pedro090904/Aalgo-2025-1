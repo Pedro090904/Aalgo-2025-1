{
  "nbformat": 4,
  "nbformat_minor": 0,
  "metadata": {
    "colab": {
      "provenance": [],
      "toc_visible": true
    },
    "kernelspec": {
      "name": "python3",
      "display_name": "Python 3"
    },
    "language_info": {
      "name": "python"
    }
  },
  "cells": [
    {
      "cell_type": "markdown",
      "source": [
        "#Aula 01\n"
      ],
      "metadata": {
        "id": "wGQHqWschg_v"
      }
    },
    {
      "cell_type": "code",
      "source": [
        "# Importar os módulos do sistema operacional\n",
        "import os\n",
        "import locale\n",
        "\n",
        "# Instalar pt_BR\n",
        "!/usr/share/locales/install-language-pack pt_BR\n",
        "!dpkg-reconfigure locales pt_BR\n",
        "\n",
        "# Reiniciar o processo Python\n",
        "os.kill(os.getpid(), 9)"
      ],
      "metadata": {
        "colab": {
          "base_uri": "https://localhost:8080/"
        },
        "id": "jgyLgJL_RY1J",
        "outputId": "a0d9da9c-a8a2-445c-d50d-0891f7d089ef"
      },
      "execution_count": null,
      "outputs": [
        {
          "output_type": "stream",
          "name": "stdout",
          "text": [
            "Generating locales (this might take a while)...\n",
            "  pt_BR.ISO-8859-1... done\n",
            "Generation complete.\n",
            "\u001b[1mdpkg-trigger:\u001b[0m \u001b[1;31merror:\u001b[0m must be called from a maintainer script (or with a --by-package option)\n",
            "\n",
            "Type dpkg-trigger --help for help about this utility.\n",
            "Generating locales (this might take a while)...\n",
            "  en_US.UTF-8... done\n",
            "  pt_BR.ISO-8859-1... done\n",
            "Generation complete.\n",
            "dpkg-query: package 'pt_br' is not installed and no information is available\n",
            "Use dpkg --info (= dpkg-deb --info) to examine archive files.\n",
            "/usr/sbin/dpkg-reconfigure: pt_BR is not installed\n"
          ]
        }
      ]
    },
    {
      "cell_type": "markdown",
      "source": [
        "Definições e funções para todos os exemplos\n",
        "\n"
      ],
      "metadata": {
        "id": "Gea-6pzLnphD"
      }
    },
    {
      "cell_type": "code",
      "source": [
        "\n",
        "# encoding: iso-8859-1\n",
        "\n",
        "from datetime import datetime\n",
        "import random\n",
        "\n",
        "# Ajustando a localização para o Brasil\n",
        "import os\n",
        "import locale\n",
        "locale.setlocale(locale.LC_ALL, 'pt_BR')\n",
        "from datetime import datetime\n",
        "import pytz\n",
        "\n",
        "# Define o fuso horário para o Brasil (Brasília)\n",
        "con_fuso_horario = pytz.timezone(\"America/Sao_Paulo\")\n",
        "\n",
        "conSeparador= \"\\nXXXXXXXXXXXXX---XXXXXXXXXXXXX\\n\"\n",
        "\n",
        "# Função formatar tempo de execução (dado tempo de inicio e fim, retorna h:m:milisegundos formatado)\n",
        "def formata_tempo_execucao (dttInicio, dttfim):\n",
        "    strTempo = dttfim - dttInicio\n",
        "    str_tempo_execucao_formatado = \"{:02d}:{:02d}.{:06d}\".format(\n",
        "    strTempo.seconds // 60,  # Minutos\n",
        "    strTempo.seconds % 60,  # Segundos\n",
        "    strTempo.microseconds  # Microsegundos\n",
        "    )\n",
        "    return str_tempo_execucao_formatado\n",
        "\n",
        "def formata_data(dttParametro):\n",
        "  return dttParametro.strftime(\"%d/%m/%Y - %H:%M:%S.%f\")\n",
        "\n",
        "def formata_numero(numero):\n",
        "    return locale.format_string(\"%d\", numero, grouping=True)\n",
        "\n",
        "# Cria um array do tamanho intElementosArray, valores inteiros entre intMin e intMax)\n",
        "def montar_array (intElementosArray,intMin, intMax):\n",
        "  x = 0\n",
        "  array = []\n",
        "  while x < intTamArray:\n",
        "    intElementosArray = random.randint(intMin,intMax)\n",
        "    array.append (intElementosArray)\n",
        "    x += 1\n",
        "  return (array)\n",
        "\n",
        "def ler_inteiro (strMensagem):\n",
        "  while True:\n",
        "    try:      # Se nenhuma exceção ocorrer, a cláusula except é ignorada e a execução da instrução try é finalizada\n",
        "      tamanho = int(input(strMensagem))\n",
        "      break  # Se a entrada for válida, sai do loop e finaliza o programa\n",
        "    except ValueError:\n",
        "      print(\"Erro: Por favor, digite um número inteiro valido.\")\n",
        "  return tamanho\n",
        "\n",
        "\n",
        "def carregar_array():\n",
        "    arrMeuArray = []\n",
        "    while True:\n",
        "        entrada = input(\"Digite um número inteiro para o array (-1 para sair): \")\n",
        "        try:\n",
        "            numero = int(entrada)\n",
        "        except ValueError:\n",
        "            print(\"Por favor, digite um número inteiro válido.\")\n",
        "            continue\n",
        "        if numero == -1:\n",
        "            break\n",
        "        arrMeuArray.append(numero)\n",
        "        print (f\"O array atual tem {str(len(arrMeuArray))}. Seu conteúdo é \\n\")\n",
        "        print (arrMeuArray)\n",
        "    return arrMeuArray\n",
        "\n",
        "def marcar_inicio (strMensagem):\n",
        "  dttInicio = datetime.now(con_fuso_horario)\n",
        "  dttInicioFormatado = formata_data(dttInicio)\n",
        "  print(f\"Iniciando {strMensagem} as : \" + str(dttInicioFormatado))\n",
        "  return dttInicio\n",
        "\n",
        "def marcar_fim (strMensagem):\n",
        "  dttFim = datetime.now(con_fuso_horario)\n",
        "  dttFimFormatado = formata_data (dttFim)\n",
        "  print(f\"Finalizando {strMensagem} as : \" + str(dttFimFormatado))\n",
        "  return dttFim"
      ],
      "metadata": {
        "id": "nuRRlG6sRxUA"
      },
      "execution_count": null,
      "outputs": []
    },
    {
      "cell_type": "markdown",
      "source": [
        "Exemplo 01 - O(1)"
      ],
      "metadata": {
        "id": "kkckAzj_ny8h"
      }
    },
    {
      "cell_type": "code",
      "source": [
        "arrMeuArray = []\n",
        "\n",
        "# Data impressa não formatada e com timezone errado. PROPOSITAL PARA DEMONSTRAR ERROS.\n",
        "\n",
        "print(\"Data impressa não formatada e com timezone errado. PROPOSITAL PARA DEMONSTRAR ERROS.\\n\")\n",
        "\n",
        "dttInicio = datetime.now()\n",
        "print(\"Iniciando a adição de um elemento ao array as : \" + str(dttInicio))\n",
        "\n",
        "intElementoArray = random.randint(0,10000000)\n",
        "arrMeuArray.append (intElementoArray)\n",
        "\n",
        "dttFim = datetime.now()\n",
        "print(\"Finalizando a adição de um elemento ao array as : \" + str(dttFim))\n",
        "print(\"Tempo de execucao foi de: : \" + (str(dttFim - dttInicio)))\n",
        "\n",
        "print (f\"O array é: {arrMeuArray}\")"
      ],
      "metadata": {
        "colab": {
          "base_uri": "https://localhost:8080/"
        },
        "id": "jNMuB34gh9Xb",
        "outputId": "55dcb158-d3df-41f0-88b1-88fb8337613d"
      },
      "execution_count": null,
      "outputs": [
        {
          "output_type": "stream",
          "name": "stdout",
          "text": [
            "Data impressa não formatada e com timezone errado. PROPOSITAL PARA DEMONSTRAR ERROS.\n",
            "\n",
            "Iniciando a adição de um elemento ao array as : 2025-02-28 12:29:00.588413\n",
            "Finalizando a adição de um elemento ao array as : 2025-02-28 12:29:00.588633\n",
            "Tempo de execucao foi de: : 0:00:00.000220\n",
            "O array é: [1221501]\n"
          ]
        }
      ]
    },
    {
      "cell_type": "markdown",
      "source": [
        "Exemplo 02 - O(N)"
      ],
      "metadata": {
        "id": "6GRjMHWnn9Qo"
      }
    },
    {
      "cell_type": "code",
      "source": [
        "# Exemplo 2 - O(N) - tempor de execução cresce conforme tamanho da entrada de dados\n",
        "\n",
        "print (\"EXEMPLO 2 - incluir N elementos em um array - O(N)\")\n",
        "\n",
        "intTamArray = ler_inteiro(\"Digite o tamanho do array que deseja montar (>0)\")\n",
        "strTamArrayFormatado = formata_numero (intTamArray)\n",
        "\n",
        "strMensagem = \"incluir \" + strTamArrayFormatado + \" elementos em um array\"\n",
        "\n",
        "dttInicio = marcar_inicio (strMensagem)\n",
        "\n",
        "arrMeuArray = montar_array (intTamArray,0,1000)\n",
        "\n",
        "dttFim = marcar_fim (strMensagem)\n",
        "\n",
        "strTempoExecucaoFormatado = formata_tempo_execucao(dttInicio, dttFim)\n",
        "\n",
        "print(f\"Tempo de execucao foi de: {strTempoExecucaoFormatado}\")"
      ],
      "metadata": {
        "colab": {
          "base_uri": "https://localhost:8080/"
        },
        "id": "uC08LCunoBop",
        "outputId": "6870251d-b94c-4314-97db-b877eb67c2c9"
      },
      "execution_count": null,
      "outputs": [
        {
          "output_type": "stream",
          "name": "stdout",
          "text": [
            "EXEMPLO 2 - incluir N elementos em um array - O(N)\n",
            "Digite o tamanho do array que deseja montar (>0)100\n",
            "Iniciando incluir 100 elementos em um array as : 28/02/2025 - 09:56:24.795207\n",
            "Finalizando incluir 100 elementos em um array as : 28/02/2025 - 09:56:24.795603\n",
            "Tempo de execucao foi de: 00:00.000396\n"
          ]
        }
      ]
    },
    {
      "cell_type": "markdown",
      "source": [
        "Exemplo 3 - O(log(N))"
      ],
      "metadata": {
        "id": "uyXT8EKToT9Z"
      }
    },
    {
      "cell_type": "code",
      "source": [
        "# Exemplo 3 - Ordenar o Array através do Quicksort\n",
        "\n",
        "print (\"EXEMPLO 3 - Ordenar o Array com QuickSort - O(log (N))\")\n",
        "\n",
        "intTamArray = ler_inteiro(\"Digite o tamanho do array que deseja montar (>0)\")\n",
        "strTamArrayFormatado = formata_numero (intTamArray)\n",
        "arrMeuArray = montar_array (intElementoArray,0,100000)\n",
        "strTamArrayFormatado = formata_numero (intTamArray)\n",
        "\n",
        "def quick_sort(arr):\n",
        "    if len(arr) <= 1:\n",
        "        return arr\n",
        "    pivot = arr[len(arr) // 2]\n",
        "    left = [x for x in arr if x < pivot]\n",
        "    middle = [x for x in arr if x == pivot]\n",
        "    right = [x for x in arr if x > pivot]\n",
        "    return quick_sort(left) + middle + quick_sort(right)\n",
        "\n",
        "arrBubble = arrMeuArray.copy() # usar o método copy, caso contrário será criada uma referência e não um novo array.\n",
        "arrQuick = arrMeuArray.copy()\n",
        "\n",
        "strMensagem = \"ordenar com Quick Sort \" + strTamArrayFormatado + \" elementos em um array\"\n",
        "dttInicio = marcar_inicio (strMensagem)\n",
        "\n",
        "arrQuick = quick_sort(arrQuick)\n",
        "\n",
        "dttFim = marcar_fim (strMensagem)\n",
        "\n",
        "strTempoExecucaoFormatado = formata_tempo_execucao(dttInicio, dttFim)\n",
        "\n",
        "print(\"Tempo de execucao do Quick Sort foi de: \" + strTempoExecucaoFormatado)"
      ],
      "metadata": {
        "colab": {
          "base_uri": "https://localhost:8080/"
        },
        "id": "71YU0Ml7oaKQ",
        "outputId": "d21c82b9-b715-49b9-9329-1ed8c542bd33"
      },
      "execution_count": null,
      "outputs": [
        {
          "output_type": "stream",
          "name": "stdout",
          "text": [
            "EXEMPLO 3 - Ordenar o Array com QuickSort - O(log (N))\n",
            "Digite o tamanho do array que deseja montar (>0)100\n",
            "Iniciando ordenar com Quick Sort 100 elementos em um array as : 28/02/2025 - 09:57:17.587895\n",
            "Finalizando ordenar com Quick Sort 100 elementos em um array as : 28/02/2025 - 09:57:17.588297\n",
            "Tempo de execucao do Quick Sort foi de: 00:00.000402\n"
          ]
        }
      ]
    },
    {
      "cell_type": "markdown",
      "source": [
        "Exemplo 4 - O(N2) - N ao quadrado"
      ],
      "metadata": {
        "id": "6UERHNzBonrK"
      }
    },
    {
      "cell_type": "code",
      "source": [
        "# Exemplo 4 - Ordenar o Array através do Bubblesort\n",
        "print (\"EXEMPLO 4 - Ordenar o Array com Bubble Sort - O(N2)\")\n",
        "\n",
        "intTamArray = ler_inteiro(\"Digite o tamanho do array que deseja montar (>0)\")\n",
        "strTamArrayFormatado = formata_numero (intTamArray)\n",
        "arrMeuArray = montar_array (intElementoArray,0,100000)\n",
        "strTamArrayFormatado = formata_numero (intTamArray)\n",
        "\n",
        "strMensagem = \"ordenar com Bubble Sort \" + strTamArrayFormatado + \" elementos em um array\"\n",
        "dttInicio = marcar_inicio (strMensagem)\n",
        "\n",
        "def bubble_sort(arr):\n",
        "\n",
        "    # Loop externo\n",
        "    for n in range(len(arr) - 1, 0, -1):\n",
        "\n",
        "        bolTrocou = False\n",
        "\n",
        "        # Loop Interno\n",
        "        for i in range(n):\n",
        "            if arr[i] > arr[i + 1]:\n",
        "\n",
        "\n",
        "                arr[i], arr[i + 1] = arr[i + 1], arr[i]\n",
        "\n",
        "                bolTrocou = True\n",
        "\n",
        "        if not bolTrocou:\n",
        "            break\n",
        "\n",
        "dttFim = marcar_fim (strMensagem)\n",
        "\n",
        "strTempoExecucaoFormatado = formata_tempo_execucao(dttInicio, dttFim)\n",
        "\n",
        "print(\"Tempo de execucao foi de: \" + strTempoExecucaoFormatado)"
      ],
      "metadata": {
        "colab": {
          "base_uri": "https://localhost:8080/",
          "height": 245
        },
        "id": "w-2U8tJmoscw",
        "outputId": "cf8ca2b1-8be8-4fd4-8ff9-64e77273ee34"
      },
      "execution_count": null,
      "outputs": [
        {
          "name": "stdout",
          "output_type": "stream",
          "text": [
            "EXEMPLO 4 - Ordenar o Array com Bubble Sort - O(N2)\n",
            "Digite o tamanho do array que deseja montar (>0): 100\n"
          ]
        },
        {
          "output_type": "error",
          "ename": "NameError",
          "evalue": "name 'intElementoArray' is not defined",
          "traceback": [
            "\u001b[0;31m---------------------------------------------------------------------------\u001b[0m",
            "\u001b[0;31mNameError\u001b[0m                                 Traceback (most recent call last)",
            "\u001b[0;32m<ipython-input-3-099c0421c66f>\u001b[0m in \u001b[0;36m<cell line: 0>\u001b[0;34m()\u001b[0m\n\u001b[1;32m      4\u001b[0m \u001b[0mintTamArray\u001b[0m \u001b[0;34m=\u001b[0m \u001b[0mler_inteiro\u001b[0m\u001b[0;34m(\u001b[0m\u001b[0;34m\"Digite o tamanho do array que deseja montar (>0)\"\u001b[0m\u001b[0;34m)\u001b[0m\u001b[0;34m\u001b[0m\u001b[0;34m\u001b[0m\u001b[0m\n\u001b[1;32m      5\u001b[0m \u001b[0mstrTamArrayFormatado\u001b[0m \u001b[0;34m=\u001b[0m \u001b[0mformata_numero\u001b[0m \u001b[0;34m(\u001b[0m\u001b[0mintTamArray\u001b[0m\u001b[0;34m)\u001b[0m\u001b[0;34m\u001b[0m\u001b[0;34m\u001b[0m\u001b[0m\n\u001b[0;32m----> 6\u001b[0;31m \u001b[0marrMeuArray\u001b[0m \u001b[0;34m=\u001b[0m \u001b[0mmontar_array\u001b[0m \u001b[0;34m(\u001b[0m\u001b[0mintElementoArray\u001b[0m\u001b[0;34m,\u001b[0m\u001b[0;36m0\u001b[0m\u001b[0;34m,\u001b[0m\u001b[0;36m100000\u001b[0m\u001b[0;34m)\u001b[0m\u001b[0;34m\u001b[0m\u001b[0;34m\u001b[0m\u001b[0m\n\u001b[0m\u001b[1;32m      7\u001b[0m \u001b[0mstrTamArrayFormatado\u001b[0m \u001b[0;34m=\u001b[0m \u001b[0mformata_numero\u001b[0m \u001b[0;34m(\u001b[0m\u001b[0mintTamArray\u001b[0m\u001b[0;34m)\u001b[0m\u001b[0;34m\u001b[0m\u001b[0;34m\u001b[0m\u001b[0m\n\u001b[1;32m      8\u001b[0m \u001b[0;34m\u001b[0m\u001b[0m\n",
            "\u001b[0;31mNameError\u001b[0m: name 'intElementoArray' is not defined"
          ]
        }
      ]
    },
    {
      "cell_type": "markdown",
      "source": [
        "Exemplo 5 - O(2n) - 2 elevado a n"
      ],
      "metadata": {
        "id": "uzs1A60bozCQ"
      }
    },
    {
      "cell_type": "code",
      "source": [
        "# Exemplo 5 - Determinar se existe um subconjunto de um conjunto dado de números que soma a um determinado valor\n",
        "print (\"EXEMPLO 5 - Ver se um número é a soma de dois elementos de um array - O(2n)\")\n",
        "\n",
        "def subset_soma(arrTeste, intAlvo, parcial=[]):\n",
        "    s = sum(parcial)\n",
        "\n",
        "    # Caso base: se a soma parcial é igual ao alvo, retorna True\n",
        "    if s == intAlvo:\n",
        "        return True\n",
        "\n",
        "    # Se a soma parcial exceder o alvo, retorna False\n",
        "    if s > intAlvo:\n",
        "        return False\n",
        "\n",
        "    # Tenta incluir cada número do conjunto em turnos\n",
        "    for i, n in enumerate(arrTeste):\n",
        "        arrRestante = arrTeste[i + 1:]\n",
        "        if subset_soma(arrRestante, intAlvo, parcial + [n]):\n",
        "            return True\n",
        "\n",
        "    return False\n",
        "\n",
        "# Carregar o array\n",
        "intTamArray = ler_inteiro (\"Digite tamanho do array: \")\n",
        "\n",
        "arrNumeros = montar_array (intTamArray,0,10)\n",
        "\n",
        "print (f\"O array é: {arrNumeros}\")\n",
        "\n",
        "intNumeroAlvo = ler_inteiro (\"Digite o número a ser procurado: \")\n",
        "\n",
        "strMensagem = \"ver se número é soma de elementos de um dado array\"\n",
        "dttInicio = marcar_inicio (strMensagem)\n",
        "\n",
        "\n",
        "if subset_soma(arrNumeros, intNumeroAlvo):\n",
        "    print(\"Existe um subconjunto que soma ao alvo.\")\n",
        "else:\n",
        "    print(\"Não existe um subconjunto que soma ao alvo.\")\n",
        "\n",
        "dttFim = marcar_fim (strMensagem)\n",
        "\n",
        "strTempoExecucaoFormatado = formata_tempo_execucao(dttInicio, dttFim)\n",
        "\n",
        "print(\"Tempo de execucao foi de: \" + strTempoExecucaoFormatado)"
      ],
      "metadata": {
        "colab": {
          "base_uri": "https://localhost:8080/"
        },
        "id": "Of1dHwqyo1rn",
        "outputId": "9bfe1cca-8099-4879-f4bc-4e7bf3577f81"
      },
      "execution_count": null,
      "outputs": [
        {
          "output_type": "stream",
          "name": "stdout",
          "text": [
            "EXEMPLO 5 - Ver se um número é a soma de dois elementos de um array - O(2n)\n",
            "Digite tamanho do array: 100\n",
            "O array é: [9, 6, 0, 8, 7, 10, 6, 4, 0, 1, 0, 1, 9, 2, 6, 7, 10, 9, 0, 9, 6, 0, 0, 10, 6, 0, 10, 9, 5, 9, 7, 8, 7, 9, 7, 10, 5, 4, 2, 7, 4, 2, 6, 9, 10, 4, 3, 1, 4, 3, 1, 10, 6, 0, 6, 0, 3, 1, 10, 10, 1, 1, 2, 6, 1, 1, 3, 9, 10, 6, 8, 10, 2, 1, 5, 6, 10, 2, 8, 3, 8, 3, 2, 7, 10, 5, 6, 9, 6, 5, 10, 0, 4, 7, 8, 8, 2, 10, 10, 10]\n",
            "Digite o número a ser procurado: 10\n",
            "Iniciando ver se número é soma de elementos de um dado array as : 28/02/2025 - 09:59:15.681568\n",
            "Existe um subconjunto que soma ao alvo.\n",
            "Finalizando ver se número é soma de elementos de um dado array as : 28/02/2025 - 09:59:15.681884\n",
            "Tempo de execucao foi de: 00:00.000316\n"
          ]
        }
      ]
    },
    {
      "cell_type": "markdown",
      "source": [
        "Exemplo 6 - O(N!)"
      ],
      "metadata": {
        "id": "JI1EtTnMo_J3"
      }
    },
    {
      "cell_type": "code",
      "source": [
        "def permutacoes(lista):\n",
        "    # Caso base: se a lista tem um único elemento, retorna a lista com ele mesmo\n",
        "    if len(lista) == 1:\n",
        "        return [lista]\n",
        "\n",
        "    # Lista para armazenar as permutações\n",
        "    resultado = []\n",
        "\n",
        "    # Itera sobre todos os elementos da lista\n",
        "    for i in range(len(lista)):\n",
        "        # Elemento atual\n",
        "        atual = lista[i]\n",
        "        # Restante da lista sem o elemento atual\n",
        "        restante = lista[:i] + lista[i+1:]\n",
        "        # Gera todas as permutações do restante da lista\n",
        "        for p in permutacoes(restante):\n",
        "            # Adiciona o elemento atual no início de cada permutação do restante\n",
        "            resultado.append([atual] + p)\n",
        "\n",
        "    return resultado\n",
        "\n",
        "# Exemplo de uso\n",
        "intTamArray = ler_inteiro (\"Digite tamanho do array: \")\n",
        "\n",
        "arrNumeros = montar_array (intTamArray,0,9)\n",
        "print (f\"O array é: {arrNumeros}\")\n",
        "\n",
        "\n",
        "strMensagem = \"criando as permutações entre os números\"\n",
        "dttInicio = marcar_inicio (strMensagem)\n",
        "\n",
        "todas_permutacoes = permutacoes(arrNumeros)\n",
        "\n",
        "dttFim = marcar_fim (strMensagem)\n",
        "\n",
        "strTempoExecucaoFormatado = formata_tempo_execucao(dttInicio, dttFim)\n",
        "\n",
        "for p in todas_permutacoes:\n",
        "    print(p)\n",
        "\n",
        "print(\"Tempo de execucao foi de: \" + strTempoExecucaoFormatado + \"\\n\")"
      ],
      "metadata": {
        "colab": {
          "base_uri": "https://localhost:8080/"
        },
        "id": "MZhmLAZ_pBvX",
        "outputId": "7de625d2-478b-44c1-ca94-53ec1011cac0"
      },
      "execution_count": null,
      "outputs": [
        {
          "output_type": "stream",
          "name": "stdout",
          "text": [
            "Digite tamanho do array: 3\n",
            "O array é: [3, 4, 7]\n",
            "Iniciando criando as permutações entre os números as : 28/02/2025 - 10:01:15.611330\n",
            "Finalizando criando as permutações entre os números as : 28/02/2025 - 10:01:15.611588\n",
            "[3, 4, 7]\n",
            "[3, 7, 4]\n",
            "[4, 3, 7]\n",
            "[4, 7, 3]\n",
            "[7, 3, 4]\n",
            "[7, 4, 3]\n",
            "Tempo de execucao foi de: 00:00.000258\n",
            "\n"
          ]
        }
      ]
    },
    {
      "cell_type": "markdown",
      "source": [
        "#Dever de casa 01"
      ],
      "metadata": {
        "id": "KQg0Ri9NjR_9"
      }
    },
    {
      "cell_type": "code",
      "source": [
        "import time\n",
        "import random\n",
        "\n",
        "def bubble_sort(arr):\n",
        "    \"\"\"\n",
        "    Implementação do algoritmo Bubble Sort.\n",
        "    Percorre repetidamente a lista e troca elementos adjacentes se estiverem na ordem errada.\n",
        "    \"\"\"\n",
        "    for n in range(len(arr) - 1, 0, -1):\n",
        "        bolTrocou = False\n",
        "        for i in range(n):\n",
        "            if arr[i] > arr[i + 1]:\n",
        "                arr[i], arr[i + 1] = arr[i + 1], arr[i]\n",
        "                bolTrocou = True\n",
        "        if not bolTrocou:\n",
        "            break\n",
        "\n",
        "def marcar_inicio(mensagem):\n",
        "    print(f\"Iniciando {mensagem}...\")\n",
        "    return time.time()\n",
        "\n",
        "def marcar_fim(mensagem):\n",
        "    print(f\"Finalizando {mensagem}...\")\n",
        "    return time.time()\n",
        "\n",
        "def formata_numero(numero):\n",
        "    return f\"{numero:,}\".replace(\",\", \".\")\n",
        "\n",
        "def formata_tempo_execucao(inicio, fim):\n",
        "    return f\"{fim - inicio:.6f} segundos\"\n",
        "\n",
        "def ler_inteiro(mensagem):\n",
        "    return int(input(mensagem + \": \"))\n",
        "\n",
        "def montar_array(tamanho, min_valor, max_valor):\n",
        "    return [random.randint(min_valor, max_valor) for _ in range(tamanho)]\n",
        "\n",
        "# Entrada do usuário\n",
        "intTamArray = ler_inteiro(\"Digite o tamanho do array que deseja montar (>0)\")\n",
        "strTamArrayFormatado = formata_numero(intTamArray)\n",
        "arrMeuArray = montar_array(intTamArray, 0, 100000)\n",
        "\n",
        "strMensagem = f\"ordenar com Bubble Sort {strTamArrayFormatado} elementos em um array\"\n",
        "dttInicio = marcar_inicio(strMensagem)\n",
        "\n",
        "bubble_sort(arrMeuArray)\n",
        "\n",
        "dttFim = marcar_fim(strMensagem)\n",
        "strTempoExecucaoFormatado = formata_tempo_execucao(dttInicio, dttFim)\n",
        "\n",
        "print(\"Tempo de execução foi de: \" + strTempoExecucaoFormatado)\n"
      ],
      "metadata": {
        "colab": {
          "base_uri": "https://localhost:8080/"
        },
        "id": "AlhrJBqnjVgi",
        "outputId": "997f5a2a-a2f2-4326-c326-d786cf086b00"
      },
      "execution_count": null,
      "outputs": [
        {
          "output_type": "stream",
          "name": "stdout",
          "text": [
            "Digite o tamanho do array que deseja montar (>0): 10000\n",
            "Iniciando ordenar com Bubble Sort 10.000 elementos em um array...\n",
            "Finalizando ordenar com Bubble Sort 10.000 elementos em um array...\n",
            "Tempo de execução foi de: 6.281338 segundos\n"
          ]
        }
      ]
    },
    {
      "cell_type": "markdown",
      "source": [
        "# Aula 02"
      ],
      "metadata": {
        "id": "0ajX4Q1-rGvy"
      }
    },
    {
      "cell_type": "markdown",
      "source": [
        "Calcular fatorial"
      ],
      "metadata": {
        "id": "-zjmyNYhuPUi"
      }
    },
    {
      "cell_type": "code",
      "source": [
        "import time"
      ],
      "metadata": {
        "id": "rKcYWko5yWrU"
      },
      "execution_count": null,
      "outputs": []
    },
    {
      "cell_type": "code",
      "source": [
        "def fatorial(n):\n",
        "\n",
        "  if n == 0:\n",
        "    return 1\n",
        "\n",
        "  else:\n",
        "\n",
        "    return n * fatorial(n-1)\n",
        "\n",
        "numero = ler_inteiro(\"Calcular o fatorial do número: \")\n",
        "\n",
        "resultado = fatorial(numero)\n",
        "\n",
        "print(f\"O fatorial de {numero} é {resultado}\")\n"
      ],
      "metadata": {
        "colab": {
          "base_uri": "https://localhost:8080/"
        },
        "id": "GLIkNTqauUsy",
        "outputId": "07acb894-a4af-4563-fa26-eda813a938ea"
      },
      "execution_count": null,
      "outputs": [
        {
          "output_type": "stream",
          "name": "stdout",
          "text": [
            "Calcular o fatorial do número: 4\n",
            "O fatorial de 4 é 24\n"
          ]
        }
      ]
    },
    {
      "cell_type": "code",
      "source": [
        "def fibonacci(n):\n",
        "\n",
        "  if n <= 1:\n",
        "\n",
        "    return n\n",
        "\n",
        "  else:\n",
        "\n",
        "    return fibonacci(n-1) + fibonacci(n-2)\n",
        "\n",
        "numero = ler_inteiro(\"Calcular o valor N para a sequência de Fibonacci: \")\n",
        "\n",
        "resultado = fibonacci(numero)\n",
        "\n",
        "print(f\"O {numero}º número da sequência de Fibonacci é {resultado}\")"
      ],
      "metadata": {
        "colab": {
          "base_uri": "https://localhost:8080/"
        },
        "id": "y8zF9IZlyGvN",
        "outputId": "9fc3849c-7bb1-43dd-b12c-f8d0c5664ea9"
      },
      "execution_count": null,
      "outputs": [
        {
          "output_type": "stream",
          "name": "stdout",
          "text": [
            "Calcular o valor N para a sequência de Fibonacci: 2\n",
            "O 2º número da sequência de Fibonacci é 1\n"
          ]
        }
      ]
    },
    {
      "cell_type": "markdown",
      "source": [
        "#Dever de casa 02\n"
      ],
      "metadata": {
        "id": "xQ4XkyAN__sm"
      }
    },
    {
      "cell_type": "code",
      "source": [
        "def fatorial(n):\n",
        "    \"\"\"\n",
        "    Função recursiva para calcular o fatorial de um número.\n",
        "\n",
        "    Parâmetro:\n",
        "    n (int): Número inteiro positivo\n",
        "\n",
        "    Retorno:\n",
        "    int: Fatorial de n\n",
        "    \"\"\"\n",
        "    if n == 0 or n == 1:  # Caso base\n",
        "        return 1\n",
        "    return n * fatorial(n - 1)  # Chamada recursiva\n"
      ],
      "metadata": {
        "id": "-UFgpWteAGNF"
      },
      "execution_count": null,
      "outputs": []
    },
    {
      "cell_type": "code",
      "source": [
        "import time\n",
        "\n",
        "n = int(input(\"Digite um número inteiro para calcular o fatorial: \"))\n",
        "\n",
        "inicio = time.time()  # Início da medição do tempo\n",
        "resultado = fatorial(n)\n",
        "fim = time.time()  # Fim da medição do tempo\n",
        "\n",
        "print(f\"O fatorial de {n} é {resultado}\")\n",
        "print(f\"Tempo de execução: {fim - inicio:.6f} segundos\")\n"
      ],
      "metadata": {
        "colab": {
          "base_uri": "https://localhost:8080/"
        },
        "id": "-Ar6fyi-BAyi",
        "outputId": "6781b1c3-41a1-44e3-b031-41ff58dd9822"
      },
      "execution_count": null,
      "outputs": [
        {
          "output_type": "stream",
          "name": "stdout",
          "text": [
            "Digite um número inteiro para calcular o fatorial: 10\n",
            "O fatorial de 10 é 3628800\n",
            "Tempo de execução: 0.000055 segundos\n"
          ]
        }
      ]
    },
    {
      "cell_type": "markdown",
      "source": [
        "### Análise da Complexidade\n",
        "\n",
        "O algoritmo de fatorial recursivo possui complexidade **O(n)**, pois:\n",
        "\n",
        "1. Cada chamada `fatorial(n)` faz outra chamada para `fatorial(n-1)`.\n",
        "2. O número total de chamadas antes de atingir o caso base é **n**.\n",
        "3. O tempo de execução cresce linearmente com `n`, já que há **n multiplicações** no total.\n",
        "\n",
        "Portanto, a complexidade assintótica do algoritmo é **O(n)**."
      ],
      "metadata": {
        "id": "p3EXS3xFCvOP"
      }
    },
    {
      "cell_type": "markdown",
      "source": [
        "### Resultados da Medição de Tempo\n",
        "\n",
        "A tabela abaixo mostra os tempos de execução para diferentes valores de `n`:\n",
        "\n",
        "| Valor de `n`  | Tempo de Execução (s) |\n",
        "|--------------|----------------------|\n",
        "| 10           | 0.000057             |\n",
        "| 100          | 0.000236             |\n",
        "| 500          | 0.000458             |\n",
        "| 1000         | 0.005112             |\n",
        "\n",
        "Esses tempos confirmam que o crescimento do tempo de execução é **linear**, ou seja, **O(n)**.\n",
        "\n",
        "#### **Explicação**\n",
        "O algoritmo faz `n` chamadas recursivas antes de atingir o caso base. Isso significa que o tempo de execução cresce proporcionalmente ao tamanho de `n`, justificando a complexidade **O(n)**.\n"
      ],
      "metadata": {
        "id": "a0kzJwauDc6p"
      }
    },
    {
      "cell_type": "markdown",
      "source": [
        "# Aula 03"
      ],
      "metadata": {
        "id": "WI2eHCoKRl0F"
      }
    },
    {
      "cell_type": "markdown",
      "source": [
        "exemplo de soma recursiva"
      ],
      "metadata": {
        "id": "K2PqxNXMk0A3"
      }
    },
    {
      "cell_type": "code",
      "source": [
        "# Função recursiva para calcular a soma dos números naturais até n\n",
        "\n",
        "def soma_naturais(n):\n",
        "\n",
        "  # Caso base: se n for 1, a soma é 1\n",
        "\n",
        " if n == 1:\n",
        "\n",
        "  return 1\n",
        "\n",
        "# Passo recursivo: soma o número atual com a soma dos anteriores\n",
        "\n",
        " else:\n",
        "\n",
        "  return n + soma_naturais(n - 1)\n",
        "\n",
        "# Entrada do usuário\n",
        "\n",
        "numero = int(input(\"Digite um número inteiro positivo: \"))\n",
        "#Pode utilizar a função ler_inteiro apresentada nos exemplos anteriores.\n",
        "\n",
        "# Verificação de entrada válida\n",
        "\n",
        "if numero < 1:\n",
        "\n",
        " print(\"Por favor, insira um número inteiro positivo maior ou igual a 1.\")\n",
        "\n",
        "else:\n",
        "\n",
        " # Cálculo e exibição do resultado\n",
        "\n",
        " resultado = soma_naturais(numero)\n",
        "\n",
        "print(f\"A soma dos números naturais de 1 a {numero} é {resultado}.\")"
      ],
      "metadata": {
        "id": "2g2rc1hXC9Fu",
        "colab": {
          "base_uri": "https://localhost:8080/"
        },
        "outputId": "2a76a9f2-349f-4874-c5b2-fcdb1d53f0b7"
      },
      "execution_count": null,
      "outputs": [
        {
          "output_type": "stream",
          "name": "stdout",
          "text": [
            "Digite um número inteiro positivo: 10\n",
            "A soma dos números naturais de 1 a 10 é 55.\n"
          ]
        }
      ]
    },
    {
      "cell_type": "markdown",
      "source": [
        "##Recursão"
      ],
      "metadata": {
        "id": "m6l3El4xlEnW"
      }
    },
    {
      "cell_type": "code",
      "source": [
        "def fatorial (n):\n",
        "\n",
        " if (n==0):\n",
        "\n",
        "  return 1\n",
        "\n",
        " else:\n",
        "\n",
        "  return n * fatorial (n-1)\n",
        "\n",
        "print (f\"O fatorial de 10 é {fatorial(10)}\")"
      ],
      "metadata": {
        "colab": {
          "base_uri": "https://localhost:8080/"
        },
        "id": "FNQcqZYllIzO",
        "outputId": "e2e53c17-7ddd-4074-e826-c97a6072fca7"
      },
      "execution_count": null,
      "outputs": [
        {
          "output_type": "stream",
          "name": "stdout",
          "text": [
            "O fatorial de 10 é 3628800\n"
          ]
        }
      ]
    },
    {
      "cell_type": "markdown",
      "source": [
        "Caso 01 - Somar os primeiros N números naturais"
      ],
      "metadata": {
        "id": "lgUnN0kRleM-"
      }
    },
    {
      "cell_type": "code",
      "source": [
        "n = ler_inteiro(\"Digite o valor de n: \")\n",
        "\n",
        "def soma_naturais_recursivamente(n):\n",
        "\n",
        " if n == 0:\n",
        "\n",
        "  return 0\n",
        "\n",
        " else:\n",
        "\n",
        "  return soma_naturais_recursivamente(n - 1) + n\n",
        "\n",
        "print(f\"Os {n} primeiros números naturais somados são: {soma_naturais_recursivamente(n)}\")"
      ],
      "metadata": {
        "colab": {
          "base_uri": "https://localhost:8080/"
        },
        "id": "4t5Kc6IblkvW",
        "outputId": "114334ed-abdd-4ce5-c6f4-f4fda99ab93e"
      },
      "execution_count": null,
      "outputs": [
        {
          "output_type": "stream",
          "name": "stdout",
          "text": [
            "Digite o valor de n: 8\n",
            "Os 8 primeiros números naturais somados são: 36\n"
          ]
        }
      ]
    },
    {
      "cell_type": "markdown",
      "source": [
        "Caso 02 - Somar todos os elementos de uma matriz (Array)"
      ],
      "metadata": {
        "id": "sbC1ztugmoou"
      }
    },
    {
      "cell_type": "code",
      "source": [
        "def soma_array(arr):\n",
        "\n",
        " if not arr:\n",
        "\n",
        "  return 0\n",
        "\n",
        " else:\n",
        "\n",
        "  return arr[0] + soma_array(arr[1:])\n",
        "\n",
        "meu_array = [2, 4, 3, 9, 6, 8, 5]\n",
        "\n",
        "total_soma = soma_array(meu_array)\n",
        "\n",
        "print(f\"A soma do array é: {total_soma}\")"
      ],
      "metadata": {
        "colab": {
          "base_uri": "https://localhost:8080/"
        },
        "id": "eZnEVBu2mtXm",
        "outputId": "9f265f93-568f-4fdd-cc96-563f77fa1808"
      },
      "execution_count": null,
      "outputs": [
        {
          "output_type": "stream",
          "name": "stdout",
          "text": [
            "A soma do array é: 37\n"
          ]
        }
      ]
    },
    {
      "cell_type": "markdown",
      "source": [
        "Caso 03 - Inverter uma String"
      ],
      "metadata": {
        "id": "IBPJPI06m7Pu"
      }
    },
    {
      "cell_type": "code",
      "source": [
        "def inverter_string(s):\n",
        "\n",
        " if len(s) == 0:\n",
        "\n",
        "  return s\n",
        "\n",
        " else:\n",
        "\n",
        "  return inverter_string(s[1:]) + s[0]\n",
        "\n",
        "minha_string = \"PEDRO\"\n",
        "\n",
        "minha_string_invertida = inverter_string(minha_string)\n",
        "\n",
        "print(f\"A string invertida é: {minha_string_invertida}\")"
      ],
      "metadata": {
        "colab": {
          "base_uri": "https://localhost:8080/"
        },
        "id": "195U44_sm-5V",
        "outputId": "608195be-08c9-4ea1-92bb-c0573d391d46"
      },
      "execution_count": null,
      "outputs": [
        {
          "output_type": "stream",
          "name": "stdout",
          "text": [
            "A string invertida é: ORDEP\n"
          ]
        }
      ]
    },
    {
      "cell_type": "markdown",
      "source": [
        "Exemplo - Somando N valores naturais"
      ],
      "metadata": {
        "id": "tMzCV5LEnqGl"
      }
    },
    {
      "cell_type": "code",
      "source": [
        "n = ler_inteiro(\"Digite o valor de n: \")\n",
        "\n",
        "def soma_recursivamente(n):\n",
        "\n",
        " if n == 0:\n",
        "\n",
        "  return 0\n",
        "\n",
        " else:\n",
        "\n",
        "  return soma_recursivamente(n - 1) + n\n",
        "\n",
        "  print(f\"Os {n} números naturais somados são: {soma_recursivamente(n)}\")"
      ],
      "metadata": {
        "colab": {
          "base_uri": "https://localhost:8080/"
        },
        "id": "Y0RSALuCns_F",
        "outputId": "d34a4e35-1605-4265-b230-4e59f0da60b8"
      },
      "execution_count": null,
      "outputs": [
        {
          "name": "stdout",
          "output_type": "stream",
          "text": [
            "Digite o valor de n: 8\n"
          ]
        }
      ]
    },
    {
      "cell_type": "markdown",
      "source": [
        "Dever de Sala"
      ],
      "metadata": {
        "id": "ZUvFjHJZuGyU"
      }
    },
    {
      "cell_type": "code",
      "source": [
        "def sub_String(s):\n",
        "  '''função'''\n",
        "\n",
        "  for i in range(len(s)):\n",
        "   for j in range(i+1, len(s)+1):\n",
        "     print(s[i:j])\n",
        "\n",
        "s=\"abc\"\n",
        "print(f\"As subsequências de {s} são:\")\n",
        "sub_String(s)"
      ],
      "metadata": {
        "colab": {
          "base_uri": "https://localhost:8080/"
        },
        "id": "ZrLCM6WpuIvs",
        "outputId": "06ce7b90-b6aa-46fd-90b7-c966c612a4e6"
      },
      "execution_count": null,
      "outputs": [
        {
          "output_type": "stream",
          "name": "stdout",
          "text": [
            "As subsequências de abc são:\n",
            "a\n",
            "ab\n",
            "abc\n",
            "b\n",
            "bc\n",
            "c\n"
          ]
        }
      ]
    },
    {
      "cell_type": "markdown",
      "source": [
        "##Dever de casa 03"
      ],
      "metadata": {
        "id": "GuI3HaHDyLYE"
      }
    },
    {
      "cell_type": "code",
      "source": [
        "# Função recursiva para verificar se um array é palíndromo\n",
        "def eh_palindromo(arr, inicio=0, fim=None):\n",
        "    if fim is None:\n",
        "        fim = len(arr) - 1\n",
        "\n",
        "    # Caso base: quando os índices se cruzam ou são iguais\n",
        "    if inicio >= fim:\n",
        "        return True\n",
        "\n",
        "    # Se os elementos nas posições opostas forem diferentes, não é palíndromo\n",
        "    if arr[inicio] != arr[fim]:\n",
        "        return False\n",
        "\n",
        "    # Chamada recursiva reduzindo os índices\n",
        "    return eh_palindromo(arr, inicio + 1, fim - 1)\n",
        "\n",
        "# Testes\n",
        "arrays = [\n",
        "    [0, 1, 2, 3, 2, 1, 0],\n",
        "    [\"a\", \"b\", \"b\", \"a\"],\n",
        "    [\"a\", \"b\", \"c\", \"b\", \"a\"],\n",
        "    [\"a\", \"b\", \"c\", \"f\", \"b\", \"a\"]\n",
        "]\n",
        "\n",
        "for i, arr in enumerate(arrays):\n",
        "    resultado = \"É palíndromo\" if eh_palindromo(arr) else \"Não é palíndromo\"\n",
        "    print(f\"Array {i+1}: {resultado}\")\n"
      ],
      "metadata": {
        "colab": {
          "base_uri": "https://localhost:8080/"
        },
        "id": "CDcYdoYxyPpQ",
        "outputId": "826c9813-25f3-4adc-9558-19c2eea3b1b0"
      },
      "execution_count": null,
      "outputs": [
        {
          "output_type": "stream",
          "name": "stdout",
          "text": [
            "Array 1: É palíndromo\n",
            "Array 2: É palíndromo\n",
            "Array 3: É palíndromo\n",
            "Array 4: Não é palíndromo\n"
          ]
        }
      ]
    },
    {
      "cell_type": "code",
      "source": [
        "# Função recursiva para verificar se um array é palíndromo\n",
        "def eh_palindromo(arr, inicio=0, fim=None):\n",
        "    if fim is None:\n",
        "        fim = len(arr) - 1\n",
        "\n",
        "    # Caso base: quando os índices se cruzam ou são iguais\n",
        "    if inicio >= fim:\n",
        "        return True\n",
        "\n",
        "    # Se os elementos nas posições opostas forem diferentes, não é palíndromo\n",
        "    if arr[inicio] != arr[fim]:\n",
        "        return False\n",
        "\n",
        "    # Chamada recursiva reduzindo os índices\n",
        "    return eh_palindromo(arr, inicio + 1, fim - 1)\n",
        "\n",
        "# Entrada do usuário\n",
        "array = input(\"Digite os elementos do array separados por espaço: \").split()\n",
        "\n",
        "# Verifica se é palíndromo\n",
        "resultado = \"É palíndromo\" if eh_palindromo(array) else \"Não é palíndromo\"\n",
        "print(f\"Array: {array} -> {resultado}\")\n"
      ],
      "metadata": {
        "colab": {
          "base_uri": "https://localhost:8080/"
        },
        "id": "-aSf5kgyz0U0",
        "outputId": "d058e5ea-7481-42f2-b253-b0ffd1583325"
      },
      "execution_count": null,
      "outputs": [
        {
          "output_type": "stream",
          "name": "stdout",
          "text": [
            "Digite os elementos do array separados por espaço: 0 1\n",
            "Array: ['0', '1'] -> Não é palíndromo\n"
          ]
        }
      ]
    },
    {
      "cell_type": "markdown",
      "source": [
        "#Aula 04"
      ],
      "metadata": {
        "id": "WZ4XLPiTZfQO"
      }
    },
    {
      "cell_type": "code",
      "source": [
        "strTeste = \"2 3 4 5 6 7 8 9\"\n",
        "\n",
        "lsMinhaLista = strTeste.split()\n",
        "\n",
        "for numero in lsMinhaLista:\n",
        "  print(f'Os numeros são: {numero}')\n",
        "\n",
        "\n",
        "print(lsMinhaLista)\n"
      ],
      "metadata": {
        "colab": {
          "base_uri": "https://localhost:8080/"
        },
        "id": "-mYdxhm-ZpSe",
        "outputId": "d294eb8a-6905-4632-96c9-9aed93b579a5"
      },
      "execution_count": null,
      "outputs": [
        {
          "output_type": "stream",
          "name": "stdout",
          "text": [
            "Os numeros são: 2\n",
            "Os numeros são: 3\n",
            "Os numeros são: 4\n",
            "Os numeros são: 5\n",
            "Os numeros são: 6\n",
            "Os numeros são: 7\n",
            "Os numeros são: 8\n",
            "Os numeros são: 9\n",
            "['2', '3', '4', '5', '6', '7', '8', '9']\n"
          ]
        }
      ]
    },
    {
      "cell_type": "markdown",
      "source": [
        "##exercicio de sala"
      ],
      "metadata": {
        "id": "wu3DJcvVwwBw"
      }
    },
    {
      "cell_type": "code",
      "source": [],
      "metadata": {
        "id": "0XIf7ccSwzYg"
      },
      "execution_count": null,
      "outputs": []
    },
    {
      "cell_type": "markdown",
      "source": [
        "#Estudar torre de hanoy\n"
      ],
      "metadata": {
        "id": "7rTr2ct95DGd"
      }
    },
    {
      "cell_type": "code",
      "source": [],
      "metadata": {
        "id": "PYG7nfsR5F8U"
      },
      "execution_count": null,
      "outputs": []
    },
    {
      "cell_type": "markdown",
      "source": [
        "##Dever de casa 04\n"
      ],
      "metadata": {
        "id": "knaBxi7nlOyh"
      }
    },
    {
      "cell_type": "code",
      "source": [
        "def F(n):\n",
        "    if n == 1:\n",
        "        return 2\n",
        "    return 2 * F(n - 1) + n**2\n",
        "\n",
        "# Solicita a entrada do usuário\n",
        "n = int(input(\"Digite um valor para n: \"))\n",
        "\n",
        "# Calcula e exibe o resultado\n",
        "print(f\"F({n}) = {F(n)}\")\n"
      ],
      "metadata": {
        "colab": {
          "base_uri": "https://localhost:8080/"
        },
        "id": "DFaXXgxRlTqQ",
        "outputId": "79196478-4f06-4828-dba6-7ab023567582"
      },
      "execution_count": null,
      "outputs": [
        {
          "output_type": "stream",
          "name": "stdout",
          "text": [
            "Digite um valor para n: 10\n",
            "F(10) = 6510\n"
          ]
        }
      ]
    },
    {
      "cell_type": "markdown",
      "source": [
        "#Aula 05"
      ],
      "metadata": {
        "id": "kudvwSyBbnL8"
      }
    },
    {
      "cell_type": "markdown",
      "source": [
        "##torre de hanoi\n"
      ],
      "metadata": {
        "id": "j-1djWevbqoc"
      }
    },
    {
      "cell_type": "code",
      "source": [
        "def torre_de_hanoi(n, origem, destino, auxiliar):\n",
        "\n",
        " if n == 1:\n",
        "        print(f\"Mova o disco 1 de {origem} para {destino}\")\n",
        "        return\n",
        "\n",
        " torre_de_hanoi(n - 1, origem, auxiliar, destino)\n",
        " print(f\"Mova o disco {n} de {origem} para {destino}\")\n",
        " torre_de_hanoi(n - 1, auxiliar, destino, origem)\n",
        "\n",
        "# Exemplo de uso\n",
        "n_discos = 3\n",
        "torre_de_hanoi(n_discos, 'A', 'C', 'B')\n"
      ],
      "metadata": {
        "colab": {
          "base_uri": "https://localhost:8080/"
        },
        "id": "VwmFvYeYl1Nm",
        "outputId": "d92f96d9-cb6c-4fb0-fa39-427191cc1b51"
      },
      "execution_count": null,
      "outputs": [
        {
          "output_type": "stream",
          "name": "stdout",
          "text": [
            "Mova o disco 1 de A para C\n",
            "Mova o disco 2 de A para B\n",
            "Mova o disco 1 de C para B\n",
            "Mova o disco 3 de A para C\n",
            "Mova o disco 1 de B para A\n",
            "Mova o disco 2 de B para C\n",
            "Mova o disco 1 de A para C\n"
          ]
        }
      ]
    },
    {
      "cell_type": "markdown",
      "source": [
        "##Dever de casa 05"
      ],
      "metadata": {
        "id": "GiP6KizD8_eO"
      }
    },
    {
      "cell_type": "markdown",
      "source": [
        " 1) **Algoritmo de ordenação Merge Sort**\n",
        "O Merge Sort segue a recorrência:\n",
        "\n",
        "\\[\n",
        "T(n) = 2T(n/2) + O(n)\n",
        "\\]\n",
        "\n",
        "Usando o **Teorema Mestre**, temos:\n",
        "\n",
        "- \\( a = 2 \\) (número de chamadas recursivas)\n",
        "- \\( b = 2 \\) (divisão do problema em subproblemas de tamanho \\( n/2 \\))\n",
        "- \\( f(n) = O(n) \\)\n",
        "\n",
        "Comparando \\( f(n) \\) com \\( O(n^{\\log_b a}) = O(n^{\\log_2 2}) = O(n) \\):\n",
        "\n",
        "- Como \\( f(n) = O(n) \\) e \\( O(n^{\\log_2 a}) = O(n) \\), estamos no caso **\\( O(n \\log n) \\)**.\n",
        "\n",
        "**Complexidade final:**  \n",
        "\\[\n",
        "O(n \\log n)\n",
        "\\]\n",
        "\n",
        "---\n",
        "\n",
        " 2) **Multiplicação de matrizes**\n",
        "A multiplicação de duas matrizes \\( n \\times n \\) clássica segue:\n",
        "\n",
        "\\[\n",
        "T(n) = O(n^3)\n",
        "\\]\n",
        "\n",
        "Mas há algoritmos mais eficientes, como o **Algoritmo de Strassen**, que segue a recorrência:\n",
        "\n",
        "\\[\n",
        "T(n) = 7T(n/2) + O(n^2)\n",
        "\\]\n",
        "\n",
        "Pelo **Teorema Mestre**:\n",
        "\n",
        "- \\( a = 7 \\)\n",
        "- \\( b = 2 \\)\n",
        "- \\( f(n) = O(n^2) \\)\n",
        "- \\( O(n^{\\log_2 7}) \\approx O(n^{2.81}) \\)\n",
        "\n",
        "**Complexidade final (Strassen):**  \n",
        "\\[\n",
        "O(n^{2.81})\n",
        "\\]\n",
        "\n",
        "Caso seja a multiplicação comum:  \n",
        "\\[\n",
        "O(n^3)\n",
        "\\]\n",
        "\n",
        "---\n",
        "\n",
        " 3) **Recorrências**\n",
        "Vamos resolver cada recorrência usando o **Teorema Mestre**:\n",
        "\n",
        " (a) \\( T(n) = 2T(n/4) + \\sqrt{n} \\)\n",
        "\n",
        "- \\( a = 2 \\), \\( b = 4 \\), \\( f(n) = O(\\sqrt{n}) \\).\n",
        "- \\( \\log_4 2 = 0.5 \\), e \\( f(n) = O(n^{0.5}) \\).\n",
        "- Como \\( f(n) = O(n^c) \\) com \\( c = 0.5 \\), e \\( \\log_b a = 0.5 \\), estamos no caso **\\( O(n^{0.5}) \\)**.\n",
        "\n",
        "**Resposta:**  \n",
        "\\[\n",
        "O(\\sqrt{n})\n",
        "\\]\n",
        "\n",
        " (b) \\( T(n) = 2T(n/4) + n \\)\n",
        "\n",
        "- \\( a = 2 \\), \\( b = 4 \\), \\( f(n) = O(n) \\).\n",
        "- \\( \\log_4 2 = 0.5 \\), e \\( f(n) = O(n^1) \\).\n",
        "- Como \\( f(n) \\) cresce mais rápido que \\( n^{\\log_b a} \\), a resposta é **\\( O(n) \\)**.\n",
        "\n",
        "**Resposta:**  \n",
        "\\[\n",
        "O(n)\n",
        "\\]\n",
        "\n",
        " (c) \\( T(n) = 16T(n/4) + n^2 \\)\n",
        "\n",
        "- \\( a = 16 \\), \\( b = 4 \\), \\( f(n) = O(n^2) \\).\n",
        "- \\( \\log_4 16 = 2 \\), e \\( f(n) = O(n^2) \\).\n",
        "- Como \\( f(n) = O(n^{\\log_b a}) \\), estamos no caso **\\( O(n^2 \\log n) \\)**.\n",
        "\n",
        "**Resposta:**  \n",
        "\\[\n",
        "O(n^2 \\log n)\n",
        "\\]"
      ],
      "metadata": {
        "id": "UTuoztNS9Dd_"
      }
    },
    {
      "cell_type": "markdown",
      "source": [],
      "metadata": {
        "id": "zN4lomm_9ivx"
      }
    }
  ]
}